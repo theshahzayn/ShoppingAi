{
 "cells": [
  {
   "cell_type": "code",
   "metadata": {
    "jupyter": {
     "is_executing": true
    }
   },
   "source": [
    "import pandas as pd\n",
    "import numpy as np\n",
    "from sklearn.model_selection import train_test_split\n",
    "from sklearn.linear_model import LinearRegression\n",
    "from sklearn.preprocessing import LabelEncoder\n",
    "from sklearn.metrics import mean_squared_error\n",
    "import matplotlib.pyplot as plt"
   ],
   "outputs": [],
   "execution_count": null
  },
  {
   "cell_type": "code",
   "metadata": {
    "jupyter": {
     "is_executing": true
    }
   },
   "source": "data = pd.read_csv(r'user_item_interactions.csv')",
   "outputs": [],
   "execution_count": null
  },
  {
   "cell_type": "code",
   "metadata": {
    "jupyter": {
     "is_executing": true
    }
   },
   "source": [
    "data.head()"
   ],
   "outputs": [],
   "execution_count": null
  },
  {
   "cell_type": "code",
   "metadata": {
    "jupyter": {
     "is_executing": true
    }
   },
   "source": [
    "better_data= data.iloc[:, :8]\n"
   ],
   "outputs": [],
   "execution_count": null
  },
  {
   "cell_type": "code",
   "metadata": {
    "jupyter": {
     "is_executing": true
    }
   },
   "source": [
    "better_data.head()"
   ],
   "outputs": [],
   "execution_count": null
  },
  {
   "cell_type": "code",
   "metadata": {
    "jupyter": {
     "is_executing": true
    }
   },
   "source": [
    "\n",
    "label_encoder = LabelEncoder()\n",
    "\n",
    "better_data['Gender'] = label_encoder.fit_transform(better_data['Gender'])\n",
    "better_data['selected items'] = better_data['selected items'].apply(lambda x: [int(i.strip()) for i in x.strip('[]').split(',') if i.strip()])\n",
    "\n",
    "# Find the maximum number of items in the 'selected items' column\n",
    "max_items = max(better_data['selected items'].apply(len))\n",
    "\n",
    "# Expand 'selected items' into binary indicator variables\n",
    "selected_items_df = pd.DataFrame(better_data['selected items'].tolist(), columns=['item_' + str(i) for i in range(1, max_items + 1)]).fillna(0).astype(int)\n",
    "\n",
    "# Concatenate the binary indicator variables with the original DataFrame\n",
    "better_data = pd.concat([better_data, selected_items_df], axis=1)\n",
    "\n",
    "# Drop the original 'selected items' column\n",
    "better_data.drop('selected items', axis=1, inplace=True)\n",
    "better_data.dropna(inplace=True)\n",
    "\n",
    "fin_better_data= better_data.iloc[:, :7]\n"
   ],
   "outputs": [],
   "execution_count": null
  },
  {
   "cell_type": "code",
   "metadata": {
    "jupyter": {
     "is_executing": true
    }
   },
   "source": [
    "fin_better_data.head()"
   ],
   "outputs": [],
   "execution_count": null
  },
  {
   "cell_type": "code",
   "metadata": {
    "jupyter": {
     "is_executing": true
    }
   },
   "source": [
    "X = fin_better_data.drop(['Spend'], axis=1)\n",
    "y = fin_better_data['Spend']\n",
    "\n",
    "# Split data into train and test sets\n",
    "X_train, X_test, y_train, y_test = train_test_split(X, y, test_size=0.2, random_state=42)\n"
   ],
   "outputs": [],
   "execution_count": null
  },
  {
   "cell_type": "code",
   "metadata": {
    "jupyter": {
     "is_executing": true
    }
   },
   "source": [
    "model = LinearRegression()\n",
    "model.fit(X_train, y_train)\n",
    "\n",
    "# Make predictions on test set\n",
    "y_pred = model.predict(X_test)\n",
    "\n",
    "# Calculate Mean Squared Error\n",
    "mse = mean_squared_error(y_test, y_pred)\n",
    "print(\"Mean Squared Error:\", mse)\n",
    "\n",
    "# Visualize predicted vs actual spend\n",
    "plt.figure(figsize=(10, 6))\n",
    "plt.scatter(y_test, y_pred, color='blue')\n",
    "plt.plot([0, max(y_test)], [0, max(y_test)], color='red', linestyle='--')\n",
    "plt.xlabel('Actual Spend')\n",
    "plt.ylabel('Predicted Spend')\n",
    "plt.title('Actual vs Predicted Spend')\n",
    "plt.show()"
   ],
   "outputs": [],
   "execution_count": null
  }
 ],
 "metadata": {
  "kernelspec": {
   "display_name": "Python 3",
   "language": "python",
   "name": "python3"
  },
  "language_info": {
   "codemirror_mode": {
    "name": "ipython",
    "version": 3
   },
   "file_extension": ".py",
   "mimetype": "text/x-python",
   "name": "python",
   "nbconvert_exporter": "python",
   "pygments_lexer": "ipython3",
   "version": "3.11.8"
  }
 },
 "nbformat": 4,
 "nbformat_minor": 2
}
